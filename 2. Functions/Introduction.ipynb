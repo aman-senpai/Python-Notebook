{
 "cells": [
  {
   "cell_type": "markdown",
   "metadata": {},
   "source": [
    "# Python Functions   \n",
    "\n",
    "Functions is a group of related statements that perfom a specific task.   \n",
    "\n",
    "Functions helps break program into smaller and modular chunks. As out program grows larger and larger, functions make it more organized and managable.   \n",
    "\n",
    "It avoides repetition and makes code reusuable.   \n",
    "\n",
    "# Syntax:\n",
    "```python\n",
    "\n",
    "def function_name(paraeters):\n",
    "    \"\"\"\n",
    "    Doc String\n",
    "    \"\"\"\n",
    "    Statement(s)\n",
    "```\n",
    "1. Keyword `def` makes the start of function header.\n",
    "2. Paramenters (arguments) through which we pass values to a function. `Optional`.\n",
    "3. A colon `:` to mark the end of function header.\n",
    "4. Doc string describe what the function does. `Optional`\n",
    "5. `return` statement to return a value from the function. `Optional`.   \n",
    "\n",
    "# Example:   "
   ]
  },
  {
   "cell_type": "code",
   "execution_count": 3,
   "metadata": {},
   "outputs": [],
   "source": [
    "def print_name(name):\n",
    "    \"\"\"\n",
    "    This function prints the names\n",
    "    \"\"\"\n",
    "    print(f\"Hello {str(name)}\")"
   ]
  },
  {
   "cell_type": "markdown",
   "metadata": {},
   "source": [
    "# Function Call   \n",
    "\n",
    "Once we have defined a function, we can call it from anywhere."
   ]
  },
  {
   "cell_type": "code",
   "execution_count": 4,
   "metadata": {},
   "outputs": [
    {
     "name": "stdout",
     "output_type": "stream",
     "text": [
      "Hello Senpai\n"
     ]
    }
   ],
   "source": [
    "print_name('Senpai')"
   ]
  },
  {
   "cell_type": "markdown",
   "metadata": {},
   "source": [
    "# Doc String   \n",
    "\n",
    "The first string after the function header is called the docstring and is short for `documentation string`.   \n",
    "\n",
    "Although optional, documentation is a good programming practice, always document your code.   \n",
    "\n",
    "Doc string will be written in `tripple` quotes so that docstring can extend up to multiple lines."
   ]
  },
  {
   "cell_type": "code",
   "execution_count": 5,
   "metadata": {},
   "outputs": [
    {
     "name": "stdout",
     "output_type": "stream",
     "text": [
      "\n",
      "    This function prints the names\n",
      "    \n"
     ]
    }
   ],
   "source": [
    "print(print_name.__doc__)   # print doc string of the function"
   ]
  },
  {
   "cell_type": "markdown",
   "metadata": {},
   "source": [
    "# `return` Statement   \n",
    "\n",
    "The return statement is used to exit a function and go back to the place from where it was called.   \n",
    "\n",
    "## Syntax:\n",
    "```python\n",
    "return [expression]\n",
    "```\n",
    "\n",
    "> `return` statement can contain an expression which gets evaluated and the value is returned   \n",
    "\n",
    "> If there is no expression in the statement or the `return` statement itself is not present inside a function, then the function will `return` `None Object`"
   ]
  },
  {
   "cell_type": "code",
   "execution_count": 11,
   "metadata": {},
   "outputs": [],
   "source": [
    "def get_sum(lst):\n",
    "    \"\"\"\n",
    "    This function returns the sum of the elements in a list.\n",
    "    \"\"\"\n",
    "\n",
    "    _sum = 0\n",
    "    # iterating over the list\n",
    "    for num in lst:\n",
    "        _sum += num\n",
    "    return _sum"
   ]
  },
  {
   "cell_type": "code",
   "execution_count": 9,
   "metadata": {},
   "outputs": [
    {
     "name": "stdout",
     "output_type": "stream",
     "text": [
      "10\n"
     ]
    }
   ],
   "source": [
    "s = get_sum([1, 2, 3, 4])\n",
    "print(s)\n"
   ]
  },
  {
   "cell_type": "code",
   "execution_count": 12,
   "metadata": {},
   "outputs": [
    {
     "name": "stdout",
     "output_type": "stream",
     "text": [
      "\n",
      "    This function returns the sum of the elements in a list.\n",
      "    \n"
     ]
    }
   ],
   "source": [
    "# print doc string\n",
    "print(get_sum.__doc__)"
   ]
  },
  {
   "cell_type": "markdown",
   "metadata": {},
   "source": [
    "# How functions works in Python?   \n",
    "\n",
    "```python\n",
    "def functionName():# <-\n",
    "    ...#              |\n",
    "    ...#              |\n",
    "...#                  |\n",
    "...#                  |\n",
    "functionName(); #-----|\n",
    "......\n",
    "......\n",
    "```"
   ]
  },
  {
   "cell_type": "markdown",
   "metadata": {},
   "source": [
    "# Scope and Life Time of Variables   \n",
    "\n",
    "> Scope of a variable is the portion of a program where the variable is recognized\n",
    "\n",
    "> Variables defined inside a function is not visible from outside. Hence, they have a local scope.\n",
    "\n",
    "> Lifetimes of a variable is the period throught which the variable exists in the memory.\n",
    "\n",
    "> The lifetime of variables inside a function is as long as teh function executes.\n",
    "\n",
    "> Variables are destroyed once we return from the function.\n",
    "\n",
    "## Example:"
   ]
  },
  {
   "cell_type": "code",
   "execution_count": 19,
   "metadata": {},
   "outputs": [
    {
     "name": "stdout",
     "output_type": "stream",
     "text": [
      "This is local variable\n",
      "This is global variable\n",
      "This is global variable\n"
     ]
    },
    {
     "ename": "NameError",
     "evalue": "name 'local_var' is not defined",
     "output_type": "error",
     "traceback": [
      "\u001b[0;31m---------------------------------------------------------------------------\u001b[0m",
      "\u001b[0;31mNameError\u001b[0m                                 Traceback (most recent call last)",
      "\u001b[1;32m/mnt/c/Users/jemsc/OneDrive/Documents/Python-Notebook/2. Functions/Introduction.ipynb Cell 13\u001b[0m in \u001b[0;36m<cell line: 18>\u001b[0;34m()\u001b[0m\n\u001b[1;32m     <a href='vscode-notebook-cell://wsl%2Bubuntu/mnt/c/Users/jemsc/OneDrive/Documents/Python-Notebook/2.%20Functions/Introduction.ipynb#X16sdnNjb2RlLXJlbW90ZQ%3D%3D?line=14'>15</a>\u001b[0m \u001b[39mprint\u001b[39m(global_var)\n\u001b[1;32m     <a href='vscode-notebook-cell://wsl%2Bubuntu/mnt/c/Users/jemsc/OneDrive/Documents/Python-Notebook/2.%20Functions/Introduction.ipynb#X16sdnNjb2RlLXJlbW90ZQ%3D%3D?line=16'>17</a>\u001b[0m \u001b[39m# print local variabale local_var\u001b[39;00m\n\u001b[0;32m---> <a href='vscode-notebook-cell://wsl%2Bubuntu/mnt/c/Users/jemsc/OneDrive/Documents/Python-Notebook/2.%20Functions/Introduction.ipynb#X16sdnNjb2RlLXJlbW90ZQ%3D%3D?line=17'>18</a>\u001b[0m \u001b[39mprint\u001b[39m(local_var)\n",
      "\u001b[0;31mNameError\u001b[0m: name 'local_var' is not defined"
     ]
    }
   ],
   "source": [
    "global_var = \"This is global variable\"\n",
    "def test_life_time():\n",
    "    \"\"\"\n",
    "    This function tests the life time of a variable\n",
    "    \"\"\"\n",
    "    local_var = \"This is local variable\"\n",
    "    print(local_var)        # print local variable local_var\n",
    "    print(global_var)       # pint global variable global_var\n",
    "\n",
    "\n",
    "# calling function\n",
    "test_life_time()\n",
    "\n",
    "# print global variable global_var\n",
    "print(global_var)\n",
    "\n",
    "# print local variabale local_var\n",
    "print(local_var)"
   ]
  },
  {
   "cell_type": "markdown",
   "metadata": {},
   "source": [
    "# Python program to print Highest Common Factor (HCF) of two numbers"
   ]
  },
  {
   "cell_type": "code",
   "execution_count": 21,
   "metadata": {},
   "outputs": [
    {
     "name": "stdout",
     "output_type": "stream",
     "text": [
      "H.C.F of 98 and 78 is: 2\n"
     ]
    }
   ],
   "source": [
    "def computeHCF(a, b):\n",
    "    \"\"\"\n",
    "    Computing HCF of two numbers.\n",
    "    \"\"\"\n",
    "    smaller = b if a > b else a     # consice way of writing if else statement\n",
    "    \n",
    "    hcf = 1\n",
    "    for i in range(1, smaller + 1):\n",
    "        if (a % i == 0) and (b % i == 0):\n",
    "            hcf = i\n",
    "    return hcf\n",
    "\n",
    "num1, num2 = 98, 78\n",
    "\n",
    "print(f\"H.C.F of {num1} and {num2} is: {computeHCF(num1, num2)}\")"
   ]
  }
 ],
 "metadata": {
  "kernelspec": {
   "display_name": "Python 3.8.10 64-bit",
   "language": "python",
   "name": "python3"
  },
  "language_info": {
   "codemirror_mode": {
    "name": "ipython",
    "version": 3
   },
   "file_extension": ".py",
   "mimetype": "text/x-python",
   "name": "python",
   "nbconvert_exporter": "python",
   "pygments_lexer": "ipython3",
   "version": "3.8.10"
  },
  "orig_nbformat": 4,
  "vscode": {
   "interpreter": {
    "hash": "31f2aee4e71d21fbe5cf8b01ff0e069b9275f58929596ceb00d14d90e3e16cd6"
   }
  }
 },
 "nbformat": 4,
 "nbformat_minor": 2
}
