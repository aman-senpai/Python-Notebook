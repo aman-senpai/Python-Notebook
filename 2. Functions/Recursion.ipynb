{
 "cells": [
  {
   "cell_type": "markdown",
   "metadata": {},
   "source": [
    "# Recursion   \n",
    "\n",
    "We know that in Python, a function can call other functions. It is even possible for the function to call itself. These type of construct are termed as `recursion` functions.   \n",
    "\n",
    "## Example:"
   ]
  },
  {
   "cell_type": "code",
   "execution_count": 4,
   "metadata": {},
   "outputs": [
    {
     "name": "stdout",
     "output_type": "stream",
     "text": [
      "Factorial of 5 is 120\n"
     ]
    }
   ],
   "source": [
    "# python program to print factorial of a number using recurion\n",
    "\n",
    "def factorial(num):\n",
    "    \"\"\"\n",
    "    This is a recursive function to find the factoarial of a given function\n",
    "    \"\"\"\n",
    "    if num == 1:    return 1\n",
    "    return num * factorial(num - 1)\n",
    "\n",
    "num = 5\n",
    "print(f\"Factorial of {num} is {factorial(num)}\")"
   ]
  },
  {
   "cell_type": "markdown",
   "metadata": {},
   "source": [
    "# Advantages   \n",
    "\n",
    "> Recursive functions make the code look clean and elegant.\n",
    "\n",
    "> A complex task can be broken down into simpler sub-problems using recursion.\n",
    "\n",
    "> Sequence generation is easier with recursion than using some nested iteration.\n",
    "\n",
    "# Disadvantages   \n",
    "\n",
    "> Sometimes the logic behind recusiong is hard to follow through.\n",
    "\n",
    "> Recursive calls are expensive (inefficient) as they take up a lot of memory and time.\n",
    "\n",
    "> Recursive functions are hard to debug."
   ]
  },
  {
   "cell_type": "markdown",
   "metadata": {},
   "source": [
    "# Python pgogram to display the fibonacci sequence up to n-th term using recursive function"
   ]
  },
  {
   "cell_type": "code",
   "execution_count": 7,
   "metadata": {},
   "outputs": [
    {
     "name": "stdout",
     "output_type": "stream",
     "text": [
      "Fibonacci sequence\n",
      "0\n",
      "1\n",
      "1\n",
      "2\n",
      "3\n",
      "5\n",
      "8\n",
      "13\n",
      "21\n",
      "34\n"
     ]
    }
   ],
   "source": [
    "def fibonacci(num):\n",
    "    \"\"\"\n",
    "    Recursive functions to print fibonacci sequence\n",
    "    \"\"\"\n",
    "    return num if num <= 1 else fibonacci(num - 1) + fibonacci(num - 2)\n",
    "\n",
    "n = 10\n",
    "print(f\"Fibonacci sequence\")\n",
    "for num in range(n):\n",
    "    print(fibonacci(num))"
   ]
  }
 ],
 "metadata": {
  "kernelspec": {
   "display_name": "Python 3.8.10 64-bit",
   "language": "python",
   "name": "python3"
  },
  "language_info": {
   "codemirror_mode": {
    "name": "ipython",
    "version": 3
   },
   "file_extension": ".py",
   "mimetype": "text/x-python",
   "name": "python",
   "nbconvert_exporter": "python",
   "pygments_lexer": "ipython3",
   "version": "3.8.10"
  },
  "orig_nbformat": 4,
  "vscode": {
   "interpreter": {
    "hash": "31f2aee4e71d21fbe5cf8b01ff0e069b9275f58929596ceb00d14d90e3e16cd6"
   }
  }
 },
 "nbformat": 4,
 "nbformat_minor": 2
}
