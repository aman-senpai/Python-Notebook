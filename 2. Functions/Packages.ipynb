{
 "cells": [
  {
   "cell_type": "markdown",
   "metadata": {},
   "source": [
    "# Packages   \n",
    "\n",
    "Packages are a way of structuring Python's modules namespace by using `dotted module names`.   \n",
    "\n",
    "A direcotry must contain a file name `init.py` in order for Python to consider it as a package. This file can be left empty but we genreally place the initializtion code for that package in this file.   \n",
    "![alt text](/mnt/c/Users/jemsc/OneDrive/Documents/Python-Notebook/img/PackageModuleStructure.jpg \"Structure\")"
   ]
  },
  {
   "cell_type": "markdown",
   "metadata": {},
   "source": [
    "# importing module from a package   \n",
    "\n",
    "We can import modules from packages using the dot(.) operator."
   ]
  },
  {
   "cell_type": "code",
   "execution_count": null,
   "metadata": {},
   "outputs": [],
   "source": [
    "# import Game.Image.open "
   ]
  }
 ],
 "metadata": {
  "kernelspec": {
   "display_name": "Python 3.8.10 64-bit",
   "language": "python",
   "name": "python3"
  },
  "language_info": {
   "name": "python",
   "version": "3.8.10"
  },
  "orig_nbformat": 4,
  "vscode": {
   "interpreter": {
    "hash": "31f2aee4e71d21fbe5cf8b01ff0e069b9275f58929596ceb00d14d90e3e16cd6"
   }
  }
 },
 "nbformat": 4,
 "nbformat_minor": 2
}
