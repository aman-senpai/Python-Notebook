{
 "cells": [
  {
   "cell_type": "markdown",
   "metadata": {},
   "source": [
    "# Python `break` and `continue` Statements   \n",
    "\n",
    "In Python, `break` and `continue` statements can alater the flow of a normal loop.   \n",
    "\n",
    "Loops iterate over a block of code until test expression is false, but sometimes we wish to terminate the current iteration or even the whole looop without checking test expression.   \n",
    "\n",
    "The `break` and `continue` statements are used in these cases.   \n",
    "\n",
    "# Python `break` Statement   \n",
    "`Syntax:`\n",
    "```python\n",
    "break\n",
    "```\n",
    "\n",
    "```python\n",
    "for var in sequence:\n",
    "    # codes inside for loop\n",
    "    if condition:# -------------\n",
    "        break                 #|\n",
    "    # codes inside for loop    |\n",
    "# codes outside for loop <------\n",
    "```\n",
    "```python\n",
    "while test expression:\n",
    "    # codes inside while loop\n",
    "    if condition:\n",
    "        break                   #|\n",
    "    # codes inside while loop    |\n",
    "#                                |\n",
    "# codes outside while loop <------"
   ]
  },
  {
   "cell_type": "code",
   "execution_count": 2,
   "metadata": {},
   "outputs": [
    {
     "name": "stdout",
     "output_type": "stream",
     "text": [
      "1\n",
      "2\n",
      "3\n",
      "outside of for loop\n"
     ]
    }
   ],
   "source": [
    "nums = [1, 2, 3, 4]\n",
    "\n",
    "for num in nums:\n",
    "    if num == 4:\n",
    "        break\n",
    "    print(num)\n",
    "else:\n",
    "    print(\"in the else-block\")\n",
    "print(\"outside of for loop\")"
   ]
  },
  {
   "cell_type": "markdown",
   "metadata": {},
   "source": [
    "# Python Program to check given number is Prime number or not (using `break`)"
   ]
  },
  {
   "cell_type": "code",
   "execution_count": 6,
   "metadata": {},
   "outputs": [
    {
     "name": "stdout",
     "output_type": "stream",
     "text": [
      "16 is divisble by 2\n",
      "16 is NOT a Prime number.\n"
     ]
    }
   ],
   "source": [
    "num = int(input(\"Enter a number: \"))    # convert string to int\n",
    "\n",
    "isDivisible = False\n",
    "i = 2\n",
    "while i < num:\n",
    "    if num % i == 0:\n",
    "        isDivisible = True\n",
    "        print(f\"{num} is divisble by {i}\")\n",
    "        break # this line is the only addtion.\n",
    "    i += 1 \n",
    "if isDivisible:\n",
    "    print(f\"{num} is NOT a Prime number.\")\n",
    "else:\n",
    "    print(f\"{num} is a Prime number.\")"
   ]
  },
  {
   "cell_type": "markdown",
   "metadata": {},
   "source": [
    "# Python `continue` Statement   \n",
    "\n",
    "`syntax`:\n",
    "```python\n",
    "continue\n",
    "\n",
    "\n",
    "for var in sequence:\n",
    "    # code inside for loop <-|\n",
    "    if condition: #          |\n",
    "        continue    # --------\n",
    "    # codes inside for loop\n",
    "# codes outside for loop\n",
    "\n",
    "while test_expression:\n",
    "    # codes inside while loop  <-|\n",
    "    if condition: #              |\n",
    "        continue # ---------------\n",
    "    # codes inside while loop\n",
    "# codes outside while loop"
   ]
  },
  {
   "cell_type": "code",
   "execution_count": 7,
   "metadata": {},
   "outputs": [
    {
     "name": "stdout",
     "output_type": "stream",
     "text": [
      "1\n",
      "3\n",
      "5\n",
      "7\n",
      "9\n",
      "else-block\n"
     ]
    }
   ],
   "source": [
    "# print odd numbers in a list\n",
    "nums = [1, 2, 3, 4, 5, 6, 7, 8, 9, 10]\n",
    "\n",
    "for num in nums:\n",
    "    if num % 2 == 0:\n",
    "        continue\n",
    "    print(num)\n",
    "else:\n",
    "    print(\"else-block\")"
   ]
  }
 ],
 "metadata": {
  "kernelspec": {
   "display_name": "Python 3.8.10 64-bit",
   "language": "python",
   "name": "python3"
  },
  "language_info": {
   "codemirror_mode": {
    "name": "ipython",
    "version": 3
   },
   "file_extension": ".py",
   "mimetype": "text/x-python",
   "name": "python",
   "nbconvert_exporter": "python",
   "pygments_lexer": "ipython3",
   "version": "3.8.10"
  },
  "orig_nbformat": 4,
  "vscode": {
   "interpreter": {
    "hash": "31f2aee4e71d21fbe5cf8b01ff0e069b9275f58929596ceb00d14d90e3e16cd6"
   }
  }
 },
 "nbformat": 4,
 "nbformat_minor": 2
}
