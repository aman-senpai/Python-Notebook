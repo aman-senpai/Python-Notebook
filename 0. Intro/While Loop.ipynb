{
 "cells": [
  {
   "cell_type": "markdown",
   "metadata": {},
   "source": [
    "# Python while Loop   \n",
    "\n",
    "The `while` loop in Python is used to iterate over a block of code as long as the test expression (condition) is `True`.\n",
    "\n",
    "```python\n",
    "while test_expression:\n",
    "    Body of while\n",
    "```\n",
    "The body of the loop is entered only if the `test_expression` evaluates to `True`.   \n",
    "\n",
    "After one iteration, the test expression is checked again.   \n",
    "\n",
    "This process continues until the `test_expression` evalutates to `False` "
   ]
  },
  {
   "cell_type": "code",
   "execution_count": 1,
   "metadata": {},
   "outputs": [
    {
     "name": "stdout",
     "output_type": "stream",
     "text": [
      "The product is 12000000\n"
     ]
    }
   ],
   "source": [
    "# Find the product of all numbers present in a list\n",
    "\n",
    "lst = [10, 20, 30, 40, 50]\n",
    "product = 1\n",
    "index = 0\n",
    "\n",
    "while index < len(lst):\n",
    "    product *= lst[index]\n",
    "    index += 1\n",
    "print(f\"The product is {product}\")"
   ]
  },
  {
   "cell_type": "markdown",
   "metadata": {},
   "source": [
    "# while Loop with else   \n",
    "\n",
    "Same as that of `for` loop, we can have an optional `else` block with `while` loop as well.   \n",
    "\n",
    "The else part is executed if the condition in the while loop evaluates to False. The `while` loop can be terminated with a break statement.   \n",
    "\n",
    "In such case, the else part is ignored. Hence, a while loop's else part runs if no break occurs and the condition is `false`."
   ]
  },
  {
   "cell_type": "code",
   "execution_count": 7,
   "metadata": {},
   "outputs": [
    {
     "name": "stdout",
     "output_type": "stream",
     "text": [
      "1\n",
      "2\n",
      "3\n",
      "4\n",
      "5\n",
      "no item left in the list\n"
     ]
    }
   ],
   "source": [
    "nums = [1, 2, 3, 4, 5]\n",
    "\n",
    "# iterating over the list\n",
    "i = 0\n",
    "while i < len(nums):\n",
    "    print(nums[i])\n",
    "    # break\n",
    "    i += 1\n",
    "else:\n",
    "    print(\"no item left in the list\")\n"
   ]
  },
  {
   "cell_type": "markdown",
   "metadata": {},
   "source": [
    "# Python Program to check given number is Prime number or not"
   ]
  },
  {
   "cell_type": "code",
   "execution_count": 12,
   "metadata": {},
   "outputs": [
    {
     "name": "stdout",
     "output_type": "stream",
     "text": [
      "16 is divisivle by 2\n",
      "16 is divisivle by 4\n",
      "16 is divisivle by 8\n",
      "16 is NOT a Prime number.\n"
     ]
    }
   ],
   "source": [
    "num = int(input(\"Enter a number\"))      # convert string to int\n",
    "\n",
    "isDivisibe = False;\n",
    "i = 2;\n",
    "while i < num:\n",
    "    if num % i == 0:\n",
    "        isDivisibe = True;\n",
    "        print(f\"{num} is divisivle by {i}\")\n",
    "    i += 1;\n",
    "if isDivisibe:\n",
    "    print(f\"{num} is NOT a Prime number.\")\n",
    "else:\n",
    "    print(f\"{num} is a prime number\")"
   ]
  }
 ],
 "metadata": {
  "kernelspec": {
   "display_name": "Python 3.8.10 64-bit",
   "language": "python",
   "name": "python3"
  },
  "language_info": {
   "codemirror_mode": {
    "name": "ipython",
    "version": 3
   },
   "file_extension": ".py",
   "mimetype": "text/x-python",
   "name": "python",
   "nbconvert_exporter": "python",
   "pygments_lexer": "ipython3",
   "version": "3.8.10"
  },
  "orig_nbformat": 4,
  "vscode": {
   "interpreter": {
    "hash": "31f2aee4e71d21fbe5cf8b01ff0e069b9275f58929596ceb00d14d90e3e16cd6"
   }
  }
 },
 "nbformat": 4,
 "nbformat_minor": 2
}
