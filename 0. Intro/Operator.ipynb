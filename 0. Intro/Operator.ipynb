{
 "cells": [
  {
   "cell_type": "markdown",
   "metadata": {},
   "source": [
    "# Operators   \n",
    "\n",
    "Operators are special symbols in Python that carry out arithmetic or logical computation. The value that the operator operates on are called the operands.   \n",
    "\n",
    "# Operator Types\n",
    " 1. Arithmetic operators\n",
    " 2. Comparison (Relational) operators\n",
    " 3. Logical (Boolean) operators\n",
    " 4. Bitwise operators\n",
    " 5. Assignment operators\n",
    " 6. Special operators\n",
    "   \n",
    "# Arithmetic Operators   \n",
    "\n",
    "Arithmetic operators are used to perform mathematical operations like addition, subtraction, multiplication etc.   \n",
    "\n",
    " `+, -, *,/, %, //, **` are arithemetic operators.   \n",
    "\n",
    "Example:\n"
   ]
  },
  {
   "cell_type": "code",
   "execution_count": 4,
   "metadata": {},
   "outputs": [
    {
     "name": "stdout",
     "output_type": "stream",
     "text": [
      "30\n",
      "-10\n",
      "200\n",
      "0.5\n",
      "10\n",
      "0\n",
      "100000000000000000000\n"
     ]
    }
   ],
   "source": [
    "x, y = 10, 20\n",
    "\n",
    "#addition \n",
    "print(x + y)\n",
    "# subtractio (-)\n",
    "print(x - y)\n",
    "# multiplication (*)\n",
    "print(x * y)\n",
    "# division (/)\n",
    "print(x / y)\n",
    "# modulo divion (%)\n",
    "print(x % y)\n",
    "# Floor Division (//)\n",
    "print(x // 20)\n",
    "# Exponent (**)\n",
    "print(x ** y)"
   ]
  },
  {
   "cell_type": "markdown",
   "metadata": {},
   "source": [
    "# Comparison Operators   \n",
    "\n",
    "Comparison operators are used to compare values. It either returns `True` or `False` according to the condition.\n",
    "\n",
    "`>, <, == , >= , != ` are comparison operators."
   ]
  },
  {
   "cell_type": "code",
   "execution_count": 6,
   "metadata": {},
   "outputs": [
    {
     "name": "stdout",
     "output_type": "stream",
     "text": [
      "True\n",
      "False\n",
      "False\n",
      "True\n",
      "False\n",
      "True\n"
     ]
    }
   ],
   "source": [
    "a, b = 10, 20\n",
    "\n",
    "print(a < b) # check if a is less than b\n",
    "\n",
    "# check a is greater than b\n",
    "print(a > b)\n",
    "# check a is equal to b\n",
    "print(a == b)\n",
    "# check a is not equal to b (!=)\n",
    "print(a != b)\n",
    "# check a greater than or equal to b\n",
    "print(a >= b)\n",
    "# check a less than or equal to b\n",
    "print(a <= b)"
   ]
  },
  {
   "cell_type": "markdown",
   "metadata": {},
   "source": [
    "# Logical Operators   \n",
    "\n",
    "Logical operators are `and, or, not` operators."
   ]
  },
  {
   "cell_type": "code",
   "execution_count": 10,
   "metadata": {},
   "outputs": [
    {
     "name": "stdout",
     "output_type": "stream",
     "text": [
      "False\n",
      "True\n",
      "True\n"
     ]
    }
   ],
   "source": [
    "a, b = True, False\n",
    "\n",
    "# print a and b\n",
    "print(a and b)\n",
    "\n",
    "#print a or b\n",
    "print(a or b)\n",
    "\n",
    "# print not b\n",
    "print(not b)"
   ]
  },
  {
   "cell_type": "markdown",
   "metadata": {},
   "source": [
    "# Bitwise Operators   \n",
    "\n",
    "Bitwise operators act on operands as if they were string of binary digits, it operates bit by bit.\n",
    "\n",
    "` &, |, ~, ^, >> , << ` are Bitwise operators"
   ]
  },
  {
   "cell_type": "code",
   "execution_count": 20,
   "metadata": {},
   "outputs": [
    {
     "name": "stdout",
     "output_type": "stream",
     "text": [
      "0\n",
      "14\n",
      "-11\n",
      "14\n",
      "5\n",
      "80\n"
     ]
    }
   ],
   "source": [
    "a, b = 10, 4\n",
    "\n",
    "#Bitwise AND\n",
    "print(a & b)\n",
    "\n",
    "# Bitwise OR\n",
    "print(a | b)\n",
    "\n",
    "# Bitwise NOT\n",
    "print(~ a)\n",
    "\n",
    "# Bitwise XOR\n",
    "print(a ^ b)\n",
    "\n",
    "# Bitwise rightshift\n",
    "print( a >> 1)\n",
    "\n",
    "# Bitwise leftshift\n",
    "print(a << 3)"
   ]
  },
  {
   "cell_type": "markdown",
   "metadata": {},
   "source": [
    "# Assignment operators   \n",
    "\n",
    "Assignment operators are used in Python to assing values to variables.   \n",
    "\n",
    "a = 5 is a simple assignment operator thatassigns the value of 5 on the right to the variable a on the left.\n",
    "\n",
    "` = , += , -= , /= , %= , //= , **=, &= , |=, ^=, >>=, <<= ` are Assignment operators."
   ]
  },
  {
   "cell_type": "code",
   "execution_count": 22,
   "metadata": {},
   "outputs": [
    {
     "name": "stdout",
     "output_type": "stream",
     "text": [
      "20\n"
     ]
    }
   ],
   "source": [
    "a = 10\n",
    "a += 10     # add AND\n",
    "print(a)\n",
    "# subtract AND (-=)\n",
    "\n",
    "# Multiply AND (*=)\n",
    "\n",
    "# Divide AND (/=)\n",
    "\n",
    "# Modulo AND (%=)\n",
    "\n",
    "# Floor Division (//=)\n",
    "\n",
    "# Exponent AND (**=)"
   ]
  },
  {
   "cell_type": "markdown",
   "metadata": {},
   "source": [
    "# Spicial Operators   \n",
    "\n",
    "`is` and `is not` are the identity operators in Python.   \n",
    "\n",
    "They are used to check if two values (or variables) are located on the same part of the memory."
   ]
  },
  {
   "cell_type": "code",
   "execution_count": 26,
   "metadata": {},
   "outputs": [
    {
     "name": "stdout",
     "output_type": "stream",
     "text": [
      "True\n",
      "False\n"
     ]
    }
   ],
   "source": [
    "a = 5\n",
    "b = 5\n",
    "print(a is b)       #5 is object created once both a and b points to same object\n",
    "\n",
    "# check is not\n",
    "print(a is not b)"
   ]
  },
  {
   "cell_type": "code",
   "execution_count": 28,
   "metadata": {},
   "outputs": [
    {
     "name": "stdout",
     "output_type": "stream",
     "text": [
      "False\n"
     ]
    }
   ],
   "source": [
    "l1 = [1, 2, 3]\n",
    "l2 = [1, 3, 3]\n",
    "print(l1 is l2)"
   ]
  },
  {
   "cell_type": "code",
   "execution_count": 30,
   "metadata": {},
   "outputs": [
    {
     "name": "stdout",
     "output_type": "stream",
     "text": [
      "True\n"
     ]
    }
   ],
   "source": [
    "s1 = \"Senpai\"\n",
    "s2 = \"Senpai\"\n",
    "print(s1 is s2)"
   ]
  },
  {
   "cell_type": "markdown",
   "metadata": {},
   "source": [
    "# MemberShip Operators   \n",
    "\n",
    "`in` and `not in` are the memebership operators in Python.   \n",
    "\n",
    "They are used to test whether a value or variable is found in a sequence (string, list, tuple, set and dictionary)."
   ]
  },
  {
   "cell_type": "code",
   "execution_count": 32,
   "metadata": {},
   "outputs": [
    {
     "name": "stdout",
     "output_type": "stream",
     "text": [
      "True\n",
      "False\n"
     ]
    }
   ],
   "source": [
    "lst = [1, 2, 3, 4]\n",
    "print(1 in lst)     # check 1 is present in a given list or not\n",
    "\n",
    "# check 5 is present in a given list\n",
    "print(5 in lst)"
   ]
  },
  {
   "cell_type": "code",
   "execution_count": 33,
   "metadata": {},
   "outputs": [
    {
     "name": "stdout",
     "output_type": "stream",
     "text": [
      "True\n"
     ]
    }
   ],
   "source": [
    "d = {1: \"a\", 2: \"b\"}       #this is a dictionar\n",
    "print(1 in d)"
   ]
  }
 ],
 "metadata": {
  "kernelspec": {
   "display_name": "Python 3.8.10 64-bit",
   "language": "python",
   "name": "python3"
  },
  "language_info": {
   "codemirror_mode": {
    "name": "ipython",
    "version": 3
   },
   "file_extension": ".py",
   "mimetype": "text/x-python",
   "name": "python",
   "nbconvert_exporter": "python",
   "pygments_lexer": "ipython3",
   "version": "3.8.10"
  },
  "orig_nbformat": 4,
  "vscode": {
   "interpreter": {
    "hash": "31f2aee4e71d21fbe5cf8b01ff0e069b9275f58929596ceb00d14d90e3e16cd6"
   }
  }
 },
 "nbformat": 4,
 "nbformat_minor": 2
}
