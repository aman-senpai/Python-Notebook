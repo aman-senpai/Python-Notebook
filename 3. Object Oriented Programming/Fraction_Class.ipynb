{
 "cells": [
  {
   "cell_type": "code",
   "execution_count": 1,
   "metadata": {},
   "outputs": [],
   "source": [
    "class Fraction(object):\n",
    "    \"\"\"\n",
    "    A number represented as a fraction\n",
    "    \"\"\"\n",
    "    def __init__(self, num, denom):\n",
    "        assert type(num) == int and type(denom) == int, \"ints not used\"\n",
    "        self.num = num\n",
    "        self.denom = denom\n",
    "    \n",
    "    def __str__(self):\n",
    "        \"\"\"\n",
    "        Returns a string representation of self\n",
    "        \"\"\"\n",
    "        return f\"{self.num} / {self.denom}\"\n",
    "    \n",
    "    def __add__(self, other):\n",
    "        top = self.num * other.denom + self.denom*other.num\n",
    "        bott = self.denom*other.denom\n",
    "        return Fraction(top, bott)\n",
    "    \n",
    "    def __sub__(self, other):\n",
    "        top = self.num * other.denom - other.num * self.denom\n",
    "        bott = self.denom * other.denom\n",
    "    \n",
    "    def __float__(self):\n",
    "        \"\"\"\n",
    "        Returns the float value of the franction\n",
    "        \"\"\"\n",
    "        return self.num / self.denom\n",
    "    \n",
    "    def inverse(self):\n",
    "        return Fraction(self.denom, self.num)\n"
   ]
  },
  {
   "cell_type": "code",
   "execution_count": 2,
   "metadata": {},
   "outputs": [
    {
     "name": "stdout",
     "output_type": "stream",
     "text": [
      "16 / 16\n",
      "1.0\n",
      "1.0\n",
      "1.3333333333333333\n"
     ]
    }
   ],
   "source": [
    "v1 = Fraction(1, 4)\n",
    "v2 = Fraction(3, 4)\n",
    "c = v1 + v2\n",
    "print(c)\n",
    "print(float(c))\n",
    "print(Fraction.__float__(c))\n",
    "print(float(v2.inverse()))\n"
   ]
  }
 ],
 "metadata": {
  "kernelspec": {
   "display_name": "Python 3.8.10 64-bit",
   "language": "python",
   "name": "python3"
  },
  "language_info": {
   "codemirror_mode": {
    "name": "ipython",
    "version": 3
   },
   "file_extension": ".py",
   "mimetype": "text/x-python",
   "name": "python",
   "nbconvert_exporter": "python",
   "pygments_lexer": "ipython3",
   "version": "3.8.10"
  },
  "orig_nbformat": 4,
  "vscode": {
   "interpreter": {
    "hash": "31f2aee4e71d21fbe5cf8b01ff0e069b9275f58929596ceb00d14d90e3e16cd6"
   }
  }
 },
 "nbformat": 4,
 "nbformat_minor": 2
}
