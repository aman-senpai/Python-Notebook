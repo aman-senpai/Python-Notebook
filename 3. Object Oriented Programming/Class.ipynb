{
 "cells": [
  {
   "cell_type": "code",
   "execution_count": 1,
   "metadata": {},
   "outputs": [],
   "source": [
    "class Coordinate(object):\n",
    "    \n",
    "    def __init__(self, x, y):\n",
    "            self.x = x\n",
    "            self.y = y\n",
    "    def distance(self, other):\n",
    "            x_diff_sq = (self.x - other.x) ** 2\n",
    "            y_diff_sq = (self.y - other.y) ** 2\n",
    "            return (x_diff_sq + y_diff_sq) ** 0.5\n",
    "    def __str__(self):\n",
    "        return f\"It's a coordinate class with values <{self.x},{self.y}>\""
   ]
  },
  {
   "cell_type": "code",
   "execution_count": 2,
   "metadata": {},
   "outputs": [
    {
     "name": "stdout",
     "output_type": "stream",
     "text": [
      "7.0710678118654755\n",
      "7.0710678118654755\n",
      "It's a coordinate class with values <5,5>\n",
      "<class '__main__.Coordinate'>\n"
     ]
    }
   ],
   "source": [
    "origin = Coordinate(0, 0)\n",
    "p1 = Coordinate(5, 5)\n",
    "print(p1.distance(origin))\n",
    "print(Coordinate.distance(origin, p1))\n",
    "print(p1)\n",
    "print(type(p1))"
   ]
  }
 ],
 "metadata": {
  "kernelspec": {
   "display_name": "Python 3.8.10 64-bit",
   "language": "python",
   "name": "python3"
  },
  "language_info": {
   "codemirror_mode": {
    "name": "ipython",
    "version": 3
   },
   "file_extension": ".py",
   "mimetype": "text/x-python",
   "name": "python",
   "nbconvert_exporter": "python",
   "pygments_lexer": "ipython3",
   "version": "3.8.10"
  },
  "orig_nbformat": 4,
  "vscode": {
   "interpreter": {
    "hash": "31f2aee4e71d21fbe5cf8b01ff0e069b9275f58929596ceb00d14d90e3e16cd6"
   }
  }
 },
 "nbformat": 4,
 "nbformat_minor": 2
}
